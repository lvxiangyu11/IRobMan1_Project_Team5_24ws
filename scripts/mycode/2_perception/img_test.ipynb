{
 "cells": [
  {
   "cell_type": "code",
   "execution_count": 2,
   "id": "72951e3b-a231-45f2-8c1a-401ec09b2d46",
   "metadata": {
    "tags": []
   },
   "outputs": [
    {
     "name": "stdout",
     "output_type": "stream",
     "text": [
      "未识别到任何文本\n"
     ]
    }
   ],
   "source": [
    "import cv2\n",
    "import pytesseract\n",
    "import numpy as np\n",
    "\n",
    "# 如果在 Windows 上，确保设置 Tesseract 的路径\n",
    "# pytesseract.pytesseract.tesseract_cmd = r\"C:\\Program Files\\Tesseract-OCR\\tesseract.exe\"\n",
    "\n",
    "# 读取图像\n",
    "image = cv2.imread('test_0.png')\n",
    "\n",
    "# 图像预处理：将图像转换为灰度图\n",
    "gray_image = cv2.cvtColor(image, cv2.COLOR_BGR2GRAY)\n",
    "\n",
    "# 1. 去噪（去除图像中的噪点）\n",
    "gray_image = cv2.fastNlMeansDenoising(gray_image, None, 30, 7, 21)\n",
    "\n",
    "# 2. 二值化（提高对比度，便于字符识别）\n",
    "_, binary_image = cv2.threshold(gray_image, 0, 255, cv2.THRESH_BINARY + cv2.THRESH_OTSU)\n",
    "\n",
    "# 3. 使用形态学操作来去除噪点（如果有的话）\n",
    "kernel = np.ones((3,3), np.uint8)\n",
    "morph_image = cv2.morphologyEx(binary_image, cv2.MORPH_CLOSE, kernel)\n",
    "\n",
    "# 尝试旋转图像的不同角度来应对可能的旋转\n",
    "def rotate_image(image, angle):\n",
    "    (h, w) = image.shape[:2]\n",
    "    center = (w // 2, h // 2)\n",
    "    matrix = cv2.getRotationMatrix2D(center, angle, 1.0)\n",
    "    rotated_image = cv2.warpAffine(image, matrix, (w, h))\n",
    "    return rotated_image\n",
    "\n",
    "angles = [0, 90, 180, 270]\n",
    "recognized_text = None\n",
    "\n",
    "for angle in angles:\n",
    "    rotated_image = rotate_image(morph_image, angle)\n",
    "    \n",
    "    # 使用 pytesseract 进行 OCR 识别\n",
    "    text = pytesseract.image_to_string(rotated_image)\n",
    "    \n",
    "    if text.strip():  # 如果识别到文本\n",
    "        recognized_text = text\n",
    "        break\n",
    "\n",
    "# 输出识别到的文本\n",
    "if recognized_text:\n",
    "    print(f\"识别到的文本：{recognized_text}\")\n",
    "else:\n",
    "    print(\"未识别到任何文本\")\n"
   ]
  },
  {
   "cell_type": "code",
   "execution_count": 2,
   "id": "9e5d243f-d578-4954-a52a-45338b53cfb4",
   "metadata": {
    "tags": []
   },
   "outputs": [
    {
     "data": {
      "text/plain": [
       "'|\\n\\x0c'"
      ]
     },
     "execution_count": 2,
     "metadata": {},
     "output_type": "execute_result"
    }
   ],
   "source": [
    "text = pytesseract.image_to_string(rotated_image, config='--psm 6')\n",
    "text"
   ]
  },
  {
   "cell_type": "code",
   "execution_count": 3,
   "id": "5aa46f13-7559-4056-a360-dfc0562b030d",
   "metadata": {
    "tags": []
   },
   "outputs": [
    {
     "name": "stdout",
     "output_type": "stream",
     "text": [
      "Recognized Text: ['7']\n"
     ]
    }
   ],
   "source": [
    "import easyocr\n",
    "\n",
    "# Initialize the reader\n",
    "reader = easyocr.Reader(['en'], gpu=True)\n",
    "\n",
    "# Recognize text in the image\n",
    "result = reader.readtext('test5.png', detail=0)\n",
    "\n",
    "print(\"Recognized Text:\", result)\n"
   ]
  },
  {
   "cell_type": "code",
   "execution_count": 3,
   "id": "8af984b6-8e8a-43b9-ba2d-91d225a51ce8",
   "metadata": {},
   "outputs": [
    {
     "ename": "AttributeError",
     "evalue": "'numpy.ndarray' object has no attribute 'rotate'",
     "output_type": "error",
     "traceback": [
      "\u001b[0;31m---------------------------------------------------------------------------\u001b[0m",
      "\u001b[0;31mAttributeError\u001b[0m                            Traceback (most recent call last)",
      "Cell \u001b[0;32mIn[3], line 5\u001b[0m\n\u001b[1;32m      2\u001b[0m angles \u001b[38;5;241m=\u001b[39m [\u001b[38;5;241m0\u001b[39m, \u001b[38;5;241m90\u001b[39m, \u001b[38;5;241m180\u001b[39m, \u001b[38;5;241m270\u001b[39m]\n\u001b[1;32m      4\u001b[0m \u001b[38;5;28;01mfor\u001b[39;00m angle \u001b[38;5;129;01min\u001b[39;00m angles:\n\u001b[0;32m----> 5\u001b[0m     rotated_image \u001b[38;5;241m=\u001b[39m \u001b[43mimage\u001b[49m\u001b[38;5;241;43m.\u001b[39;49m\u001b[43mrotate\u001b[49m(angle, expand\u001b[38;5;241m=\u001b[39m\u001b[38;5;28;01mTrue\u001b[39;00m)\n\u001b[1;32m      6\u001b[0m     text \u001b[38;5;241m=\u001b[39m pytesseract\u001b[38;5;241m.\u001b[39mimage_to_string(rotated_image, config\u001b[38;5;241m=\u001b[39m\u001b[38;5;124m'\u001b[39m\u001b[38;5;124m--psm 10\u001b[39m\u001b[38;5;124m'\u001b[39m)\u001b[38;5;241m.\u001b[39mstrip()\n\u001b[1;32m      7\u001b[0m     \u001b[38;5;28;01mif\u001b[39;00m text:\n",
      "\u001b[0;31mAttributeError\u001b[0m: 'numpy.ndarray' object has no attribute 'rotate'"
     ]
    }
   ],
   "source": [
    "from PIL import Image, ImageOps\n",
    "import pytesseract\n",
    "\n",
    "# Load the image\n",
    "image_path = '/mnt/data/image.png'\n",
    "image = Image.open(image_path)\n",
    "\n",
    "# Ensure the image is in a format compatible with PIL\n",
    "if not isinstance(image, Image.Image):\n",
    "    image = Image.fromarray(image)\n",
    "\n",
    "# Rotate and detect text\n",
    "rotated_text = None\n",
    "rotation_angle = None\n",
    "angles = [0, 90, 180, 270]\n",
    "\n",
    "for angle in angles:\n",
    "    rotated_image = image.rotate(angle, expand=True)\n",
    "    text = pytesseract.image_to_string(rotated_image, config='--psm 10').strip()\n",
    "    if text:\n",
    "        rotated_text = text\n",
    "        rotation_angle = angle\n",
    "        break\n",
    "\n",
    "# Process the extracted text\n",
    "if rotated_text:\n",
    "    letter = rotated_text.strip().upper()\n",
    "else:\n",
    "    letter = \"\"\n",
    "\n",
    "# Check for the circle\n",
    "circle_present = \"O\" in letter or \"D\" in letter  # Example heuristic for circle detection\n",
    "\n",
    "# Assign color\n",
    "color = \"Yellow\"\n",
    "\n",
    "# Output the result as JSON\n",
    "result = {\n",
    "    \"letter\": letter,\n",
    "    \"circle\": circle_present,\n",
    "    \"color\": color,\n",
    "    \"rotation_angle\": rotation_angle\n",
    "}\n",
    "\n",
    "print(result)"
   ]
  }
 ],
 "metadata": {
  "kernelspec": {
   "display_name": "Python 3 (ipykernel)",
   "language": "python",
   "name": "python3"
  },
  "language_info": {
   "codemirror_mode": {
    "name": "ipython",
    "version": 3
   },
   "file_extension": ".py",
   "mimetype": "text/x-python",
   "name": "python",
   "nbconvert_exporter": "python",
   "pygments_lexer": "ipython3",
   "version": "3.8.10"
  }
 },
 "nbformat": 4,
 "nbformat_minor": 5
}
