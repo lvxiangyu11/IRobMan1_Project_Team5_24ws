{
 "cells": [
  {
   "cell_type": "markdown",
   "id": "4242c33e-6f09-49f3-b43f-9cd3942c67e5",
   "metadata": {},
   "source": [
    "# 1. 取指定路径的 ZED 点云文件，并过滤掉深度低于 0.01 的点："
   ]
  },
  {
   "cell_type": "code",
   "execution_count": 30,
   "id": "c70901d2-9cde-4844-b42c-41798f03b639",
   "metadata": {
    "tags": []
   },
   "outputs": [
    {
     "name": "stdout",
     "output_type": "stream",
     "text": [
      "Jupyter environment detected. Enabling Open3D WebVisualizer.\n",
      "[Open3D INFO] WebRTC GUI backend enabled.\n",
      "[Open3D INFO] WebRTCWindowSystem: HTTP handshake server disabled.\n"
     ]
    }
   ],
   "source": [
    "import open3d as o3d\n",
    "import numpy as np\n",
    "\n",
    "def filter_point_cloud_by_depth(ply_path, depth_threshold=0.01):\n",
    "    \"\"\"\n",
    "    读取点云文件并过滤掉深度低于指定阈值的点。\n",
    "\n",
    "    Args:\n",
    "        ply_path (str): 点云文件的路径。\n",
    "        depth_threshold (float): 深度阈值，低于该值的点将被过滤。\n",
    "\n",
    "    Returns:\n",
    "        o3d.geometry.PointCloud: 过滤后的点云对象。\n",
    "    \"\"\"\n",
    "    # 读取点云文件\n",
    "    point_cloud = o3d.io.read_point_cloud(ply_path)\n",
    "    if not point_cloud.has_points():\n",
    "        raise ValueError(f\"Failed to read point cloud from {ply_path}\")\n",
    "\n",
    "    # 获取点云的点坐标\n",
    "    points = np.asarray(point_cloud.points)\n",
    "\n",
    "    # 过滤深度小于阈值的点\n",
    "    filtered_points = points[points[:, 2] >= depth_threshold]\n",
    "\n",
    "    # 创建新的点云对象\n",
    "    filtered_point_cloud = o3d.geometry.PointCloud()\n",
    "    filtered_point_cloud.points = o3d.utility.Vector3dVector(filtered_points)\n",
    "\n",
    "    # 保留颜色信息（如果存在）\n",
    "    if point_cloud.has_colors():\n",
    "        colors = np.asarray(point_cloud.colors)\n",
    "        filtered_colors = colors[points[:, 2] >= depth_threshold]\n",
    "        filtered_point_cloud.colors = o3d.utility.Vector3dVector(filtered_colors)\n",
    "\n",
    "    return filtered_point_cloud\n"
   ]
  },
  {
   "cell_type": "code",
   "execution_count": 31,
   "id": "e95dde6e-d7a6-4e5e-8b1b-fda0345e911b",
   "metadata": {
    "tags": []
   },
   "outputs": [],
   "source": [
    "zed_ply_path = \"mesh/zed_point_cloud_world3.ply\"\n",
    "filtered_point_cloud = filter_point_cloud_by_depth(zed_ply_path, depth_threshold=0.01)\n",
    "o3d.visualization.draw_geometries([filtered_point_cloud], window_name=\"Filtered Point Cloud\")"
   ]
  },
  {
   "cell_type": "markdown",
   "id": "348703bb-aba5-41f7-bad9-09b15c823251",
   "metadata": {},
   "source": [
    "# 2. 对点云深度进行统计并生成统计图"
   ]
  },
  {
   "cell_type": "code",
   "execution_count": 32,
   "id": "07d3592f-5810-44d4-9ba1-7b58cd69754a",
   "metadata": {
    "tags": []
   },
   "outputs": [
    {
     "data": {
      "image/png": "[encoded data removed]",
      "text/plain": [
       "<Figure size 1000x600 with 1 Axes>"
      ]
     },
     "metadata": {},
     "output_type": "display_data"
    }
   ],
   "source": [
    "import matplotlib.pyplot as plt\n",
    "import numpy as np\n",
    "def analyze_and_plot_depth(filtered_point_cloud, num_bins=50):\n",
    "    \"\"\"\n",
    "    对点云的深度进行统计并绘制直方图。\n",
    "\n",
    "    Args:\n",
    "        filtered_point_cloud (o3d.geometry.PointCloud): 已过滤的点云对象。\n",
    "        num_bins (int): 统计直方图的分箱数量。\n",
    "\n",
    "    Returns:\n",
    "        None\n",
    "    \"\"\"\n",
    "    # 提取深度值\n",
    "    points = np.asarray(filtered_point_cloud.points)\n",
    "    depths = points[:, 2]  # 获取 Z 轴（深度）\n",
    "\n",
    "    # 绘制深度直方图\n",
    "    plt.figure(figsize=(10, 6))\n",
    "    plt.hist(depths, bins=num_bins, color='skyblue', edgecolor='black', alpha=0.7)\n",
    "    plt.title(\"Depth Distribution\")\n",
    "    plt.xlabel(\"Depth (z-axis)\")\n",
    "    plt.ylabel(\"Count\")\n",
    "    plt.grid(axis='y', linestyle='--', alpha=0.7)\n",
    "\n",
    "    # 自动调整 y 轴范围\n",
    "    plt.ylim(0, max(np.histogram(depths, bins=num_bins)[0]) * 1.1)\n",
    "    plt.show()\n",
    "\n",
    "# 调用示例\n",
    "analyze_and_plot_depth(filtered_point_cloud, num_bins=50)\n"
   ]
  },
  {
   "cell_type": "markdown",
   "id": "e7dbb39e-7952-4749-a473-7027fe33fae6",
   "metadata": {},
   "source": [
    "# 3. 对每个层切片并显示"
   ]
  },
  {
   "cell_type": "code",
   "execution_count": 33,
   "id": "c4006183-26d7-4b58-b79c-6a4225084370",
   "metadata": {
    "tags": []
   },
   "outputs": [
    {
     "name": "stdout",
     "output_type": "stream",
     "text": [
      "MaxLayer: 2\n"
     ]
    }
   ],
   "source": [
    "def calculate_max_layer(filtered_point_cloud, layer_height=0.04):\n",
    "    \"\"\"\n",
    "    计算点云的最高层数 (MaxLayer)，基于 z 轴最大值，使用四舍五入计算。\n",
    "\n",
    "    Args:\n",
    "        filtered_point_cloud (o3d.geometry.PointCloud): 已过滤的点云对象。\n",
    "        layer_height (float): 每一层的高度，默认值为 0.04。\n",
    "\n",
    "    Returns:\n",
    "        int: 最高层数 (MaxLayer)。\n",
    "    \"\"\"\n",
    "    # 提取点云的 z 轴最大值\n",
    "    points = np.asarray(filtered_point_cloud.points)\n",
    "    z_max = np.max(points[:, 2])\n",
    "\n",
    "    # 计算最高层数，严格四舍五入\n",
    "    max_layer = int(np.floor(z_max / layer_height + 0.5))\n",
    "\n",
    "    return max_layer\n",
    "\n",
    "# 示例调用\n",
    "max_layer = calculate_max_layer(filtered_point_cloud, layer_height=0.04)\n",
    "print(f\"MaxLayer: {max_layer}\")\n"
   ]
  },
  {
   "cell_type": "code",
   "execution_count": 34,
   "id": "c55d10e5-14a2-4f9a-b814-c231208c7096",
   "metadata": {
    "tags": []
   },
   "outputs": [
    {
     "name": "stdout",
     "output_type": "stream",
     "text": [
      "Processing layer 1 (Z range: 0.03 to 0.05)\n",
      "Processing layer 2 (Z range: 0.07 to 0.09)\n"
     ]
    }
   ],
   "source": [
    "import open3d as o3d\n",
    "import numpy as np\n",
    "import matplotlib.pyplot as plt\n",
    "from scipy.ndimage import maximum_filter\n",
    "\n",
    "def maxpooling_2x2(image):\n",
    "    \"\"\"\n",
    "    对图像进行2x2的MaxPooling操作。\n",
    "\n",
    "    Args:\n",
    "        image (numpy.ndarray): 输入图像 (H, W, C)。\n",
    "\n",
    "    Returns:\n",
    "        numpy.ndarray: MaxPooling后的图像 (H', W', C)。\n",
    "    \"\"\"\n",
    "    pooled_height = image.shape[0] // 2\n",
    "    pooled_width = image.shape[1] // 2\n",
    "    pooled_image = np.zeros((pooled_height, pooled_width, image.shape[2]))\n",
    "\n",
    "    for c in range(image.shape[2]):  # 对每个通道进行MaxPooling\n",
    "        pooled_image[:, :, c] = maximum_filter(image[:, :, c], size=2, mode='constant')[::2, ::2]\n",
    "\n",
    "    return pooled_image\n",
    "\n",
    "def slice_map_pool_and_display(filtered_point_cloud, max_layer, layer_thickness=0.04, slice_offset=0.01, world_x_range=(0.2, 0.8), world_y_range=(-0.75, 0.75), pixel_size=0.0005, image_width=1200, image_height=3000):\n",
    "    \"\"\"\n",
    "    对点云逐层切片、映射到图像（包括扩展点影响范围）、进行2x2 MaxPooling，并逆时针旋转90度显示。\n",
    "\n",
    "    Args:\n",
    "        filtered_point_cloud (o3d.geometry.PointCloud): 已过滤的点云对象。\n",
    "        max_layer (int): 最大层数。\n",
    "        layer_thickness (float): 每层的中心间隔。\n",
    "        slice_offset (float): 每层的上下偏移范围。\n",
    "        world_x_range (tuple): 世界坐标系的x轴范围 (min_x, max_x)。\n",
    "        world_y_range (tuple): 世界坐标系的y轴范围 (min_y, max_y)。\n",
    "        pixel_size (float): 每像素对应的世界坐标单位大小。\n",
    "        image_width (int): 输出图像的宽度（像素）。\n",
    "        image_height (int): 输出图像的高度（像素）。\n",
    "\n",
    "    Returns:\n",
    "        list: 每一层的原始图像列表。\n",
    "    \"\"\"\n",
    "    points = np.asarray(filtered_point_cloud.points)\n",
    "    colors = np.asarray(filtered_point_cloud.colors) if filtered_point_cloud.has_colors() else np.ones((len(points), 3))\n",
    "    images = []\n",
    "    for layer in range(1, max_layer + 1):\n",
    "        z_center = layer * layer_thickness\n",
    "        z_min = z_center - slice_offset\n",
    "        z_max = z_center + slice_offset\n",
    "\n",
    "        # 筛选属于该层的点\n",
    "        mask = (points[:, 2] >= z_min) & (points[:, 2] <= z_max)\n",
    "        layer_points = points[mask]\n",
    "        layer_colors = colors[mask]\n",
    "\n",
    "        if layer_points.size > 0:\n",
    "            print(f\"Processing layer {layer} (Z range: {z_min:.2f} to {z_max:.2f})\")\n",
    "\n",
    "            # 初始化图像\n",
    "            image = np.zeros((image_height, image_width, 3))\n",
    "\n",
    "            # 映射点到图像（包括扩展到四周一圈）\n",
    "            for i in range(len(layer_points)):\n",
    "                x, y = layer_points[i, 0], layer_points[i, 1]\n",
    "\n",
    "                # 转换为像素坐标\n",
    "                x_pixel = int((x - world_x_range[0]) / pixel_size)\n",
    "                y_pixel = int((world_y_range[1] - y) / pixel_size)\n",
    "\n",
    "                if 0 <= x_pixel < image_width and 0 <= y_pixel < image_height:\n",
    "                    # 设置中心点\n",
    "                    image[y_pixel, x_pixel, :] = layer_colors[i]\n",
    "\n",
    "                    # 设置四周一圈\n",
    "                    for dx in [-1, 0, 1]:\n",
    "                        for dy in [-1, 0, 1]:\n",
    "                            if dx == 0 and dy == 0:\n",
    "                                continue  # 跳过中心点\n",
    "                            nx, ny = x_pixel + dx, y_pixel + dy\n",
    "                            if 0 <= nx < image_width and 0 <= ny < image_height:\n",
    "                                image[ny, nx, :] = layer_colors[i]\n",
    "\n",
    "            # MaxPooling到600*1500\n",
    "            pooled_image = maxpooling_2x2(image)\n",
    "\n",
    "            # 添加到结果列表\n",
    "            images.append(pooled_image)\n",
    "\n",
    "    return images\n",
    "\n",
    "# 示例调用\n",
    "# 调用切片并映射到图像\n",
    "images = slice_map_pool_and_display(\n",
    "    filtered_point_cloud, \n",
    "    max_layer=10,  # 示例最大层数\n",
    "    layer_thickness=0.04, \n",
    "    slice_offset=0.01, \n",
    "    world_x_range=(0.2, 0.8), \n",
    "    world_y_range=(-0.75, 0.75), \n",
    "    pixel_size=0.0005, \n",
    "    image_width=1200, \n",
    "    image_height=3000\n",
    ")\n",
    "\n"
   ]
  },
  {
   "cell_type": "code",
   "execution_count": 35,
   "id": "eaec2450-a1ec-4c3e-8b72-bb980aec98ce",
   "metadata": {
    "tags": []
   },
   "outputs": [],
   "source": [
    "from matplotlib.pyplot import imsave\n",
    "\n",
    "# 假设 images 是生成的图像列表\n",
    "imsave(\"layer_2.png\", images[1])"
   ]
  },
  {
   "cell_type": "markdown",
   "id": "2ac0daee-fc05-4891-8019-4a5932b12994",
   "metadata": {},
   "source": [
    "# 5. 识别正方形并转换为世界坐标"
   ]
  },
  {
   "cell_type": "code",
   "execution_count": 37,
   "id": "5af07c74-2d20-47e6-8851-a6dc556aad1d",
   "metadata": {
    "tags": []
   },
   "outputs": [
    {
     "data": {
      "image/png": "[encoded data removed]",
      "text/plain": [
       "<Figure size 1500x800 with 4 Axes>"
      ]
     },
     "metadata": {},
     "output_type": "display_data"
    }
   ],
   "source": [
    "import cv2\n",
    "import matplotlib.pyplot as plt\n",
    "\n",
    "# 读取图片\n",
    "image = cv2.imread(\"layer_2.png\")\n",
    "\n",
    "# 灰度化\n",
    "gray_image = cv2.cvtColor(image, cv2.COLOR_BGR2GRAY)\n",
    "\n",
    "# 高斯模糊\n",
    "blurred_image = cv2.GaussianBlur(gray_image, (3, 3), 0)\n",
    "\n",
    "# 边缘检测 (Canny 算法)\n",
    "edges = cv2.Canny(blurred_image, threshold1=50, threshold2=150)\n",
    "\n",
    "# 将边缘叠加到原始图像\n",
    "edges_colored = cv2.cvtColor(edges, cv2.COLOR_GRAY2BGR)  # 转换边缘图为彩色\n",
    "image_with_edges = cv2.addWeighted(image, 0.8, edges_colored, 0.2, 0)  # 叠加边缘线\n",
    "\n",
    "# 显示结果\n",
    "plt.figure(figsize=(15, 8))\n",
    "\n",
    "# 显示灰度图\n",
    "plt.subplot(1, 4, 1)\n",
    "plt.imshow(gray_image, cmap='gray')\n",
    "plt.title(\"Gray Image\")\n",
    "plt.axis('off')\n",
    "\n",
    "# 显示高斯模糊图\n",
    "plt.subplot(1, 4, 2)\n",
    "plt.imshow(blurred_image, cmap='gray')\n",
    "plt.title(\"Gaussian Blurred Image\")\n",
    "plt.axis('off')\n",
    "\n",
    "# 显示边缘检测结果\n",
    "plt.subplot(1, 4, 3)\n",
    "plt.imshow(edges, cmap='gray')\n",
    "plt.title(\"Edge Detection\")\n",
    "plt.axis('off')\n",
    "\n",
    "# 显示叠加边缘线的图像\n",
    "plt.subplot(1, 4, 4)\n",
    "plt.imshow(cv2.cvtColor(image_with_edges, cv2.COLOR_BGR2RGB))\n",
    "plt.title(\"Image with Edges\")\n",
    "plt.axis('off')\n",
    "\n",
    "plt.tight_layout()\n",
    "plt.show()\n"
   ]
  },
  {
   "cell_type": "code",
   "execution_count": 52,
   "id": "b521012c-35e8-4cf0-a25b-958e5b9f70cc",
   "metadata": {
    "tags": []
   },
   "outputs": [
    {
     "name": "stdout",
     "output_type": "stream",
     "text": [
      "x: 452.79, y: 867.58, w: 46.59, h: 47.04, angle: 2.60\n"
     ]
    },
    {
     "data": {
      "image/png": "[encoded data removed]",
      "text/plain": [
       "<Figure size 400x400 with 1 Axes>"
      ]
     },
     "metadata": {},
     "output_type": "display_data"
    },
    {
     "name": "stdout",
     "output_type": "stream",
     "text": [
      "x: 233.31, y: 623.52, w: 47.95, h: 47.73, angle: 24.62\n"
     ]
    },
    {
     "data": {
      "image/png": "[encoded data removed]",
      "text/plain": [
       "<Figure size 400x400 with 1 Axes>"
      ]
     },
     "metadata": {},
     "output_type": "display_data"
    },
    {
     "data": {
      "image/png": "[encoded data removed]",
      "text/plain": [
       "<Figure size 1000x800 with 1 Axes>"
      ]
     },
     "metadata": {},
     "output_type": "display_data"
    }
   ],
   "source": [
    "# 轮廓检测\n",
    "contours, _ = cv2.findContours(edges, cv2.RETR_EXTERNAL, cv2.CHAIN_APPROX_SIMPLE)\n",
    "\n",
    "# 拷贝原始图像用于绘制结果\n",
    "result_image = image.copy()\n",
    "\n",
    "# 检测到的正方形\n",
    "detected_squares = []\n",
    "\n",
    "# 遍历轮廓并提取正方形信息\n",
    "for contour in contours:\n",
    "    # 计算最小外接矩形（可能是旋转的）\n",
    "    rect = cv2.minAreaRect(contour)  # 得到中心、宽高、角度\n",
    "    box = cv2.boxPoints(rect)       # 得到矩形的4个角点\n",
    "    box = np.intp(box)              # 转换为整数坐标\n",
    "    \n",
    "    # 提取宽和高\n",
    "    width, height = rect[1]\n",
    "    \n",
    "    # 检查是否为接近 40×40 的正方形（允许一定误差）\n",
    "    if 40 <= width <= 50 and 40 <= height <= 50 and abs(width - height) <= 5:\n",
    "        detected_squares.append(rect)\n",
    "        \n",
    "        # 提取正方形的 x, y, w, h\n",
    "        x, y = rect[0]  # 中心点坐标\n",
    "        w, h = rect[1]  # 宽和高\n",
    "        angle = rect[2]  # 旋转角度\n",
    "        \n",
    "        print(f\"x: {x:.2f}, y: {y:.2f}, w: {w:.2f}, h: {h:.2f}, angle: {angle:.2f}\")\n",
    "        \n",
    "        # 旋转原始图像以校正正方形方向\n",
    "        rotation_matrix = cv2.getRotationMatrix2D((x, y), angle, 1.0)\n",
    "        rotated_image = cv2.warpAffine(image, rotation_matrix, (image.shape[1], image.shape[0]))\n",
    "        \n",
    "        # 提取旋转后正方形的区域\n",
    "        rect_points = cv2.boundingRect(box)\n",
    "        x_start, y_start, w_rect, h_rect = rect_points\n",
    "        square_region = rotated_image[y_start:y_start + h_rect, x_start:x_start + w_rect]\n",
    "        \n",
    "        # 显示校正后的正方形\n",
    "        plt.figure(figsize=(4, 4))\n",
    "        plt.imshow(cv2.cvtColor(square_region, cv2.COLOR_BGR2RGB))\n",
    "        plt.title(f\"x: {x:.0f}, y: {y:.0f}, angle corrected\")\n",
    "        plt.axis('off')\n",
    "        plt.show()\n",
    "\n",
    "        # 在原图上绘制正方形\n",
    "        cv2.drawContours(result_image, [box], 0, (0, 255, 0), 2)\n",
    "\n",
    "# 显示检测到的结果\n",
    "plt.figure(figsize=(10, 8))\n",
    "plt.imshow(cv2.cvtColor(result_image, cv2.COLOR_BGR2RGB))\n",
    "plt.title(\"Detected Squares with Contours\")\n",
    "plt.axis('off')\n",
    "plt.show()"
   ]
  },
  {
   "cell_type": "code",
   "execution_count": 74,
   "id": "2cb8c364-9fe2-4108-b7c6-774396087019",
   "metadata": {
    "tags": []
   },
   "outputs": [],
   "source": [
    "import cv2\n",
    "import numpy as np\n",
    "\n",
    "def rect_to_homogeneous_matrix(rect):\n",
    "    # rect参数解析\n",
    "    center_x, center_y = rect[0]  # 中心点坐标\n",
    "    width, height = rect[1]       # 矩形宽高\n",
    "    angle = rect[2]               # 旋转角度\n",
    "    \n",
    "    # 转换角度为弧度\n",
    "    theta = math.radians(angle)\n",
    "    \n",
    "    # 构建4x4齐次变换矩阵\n",
    "    matrix = np.eye(4)\n",
    "    \n",
    "    # 旋转矩阵部分（左上角2x2）\n",
    "    matrix[0, 0] = math.cos(theta)\n",
    "    matrix[0, 1] = -math.sin(theta)\n",
    "    matrix[1, 0] = math.sin(theta)\n",
    "    matrix[1, 1] = math.cos(theta)\n",
    "    \n",
    "    # 平移部分（最后一列）\n",
    "    matrix[0, 3] = center_x\n",
    "    matrix[1, 3] = center_y\n",
    "    \n",
    "    return matrix\n",
    "\n",
    "def extract_aligned_squares(input_image):\n",
    "    \"\"\"\n",
    "    Extract and align squares from an input image, cropping the center 40x40 region.\n",
    "\n",
    "    Parameters:\n",
    "        input_image (numpy.ndarray): Input image in BGR format.\n",
    "\n",
    "    Returns:\n",
    "        list: A list of tuples, each containing:\n",
    "            - Cropped and aligned 40x40 square image (numpy.ndarray).\n",
    "            - 4x4 transformation matrix (numpy.ndarray).\n",
    "    \"\"\"\n",
    "    gray_image = cv2.cvtColor(input_image, cv2.COLOR_BGR2GRAY)\n",
    "    blurred_image = cv2.GaussianBlur(gray_image, (3, 3), 0)\n",
    "    edges = cv2.Canny(blurred_image, threshold1=50, threshold2=150)\n",
    "    \n",
    "    contours, _ = cv2.findContours(edges, cv2.RETR_EXTERNAL, cv2.CHAIN_APPROX_SIMPLE)\n",
    "    result = []\n",
    "    \n",
    "    for contour in contours:\n",
    "        rect = cv2.minAreaRect(contour)\n",
    "        width, height = rect[1]\n",
    "        \n",
    "        if 40 <= width <= 50 and 40 <= height <= 50 and abs(width - height) <= 5:\n",
    "            # 创建4x4变换矩阵\n",
    "            transform_matrix = rect_to_homogeneous_matrix(rect)\n",
    "            \n",
    "            # 执行旋转\n",
    "            rotated_image = cv2.warpAffine(input_image, rotation_matrix, (input_image.shape[1], input_image.shape[0]))\n",
    "            \n",
    "            # 裁剪区域\n",
    "            x_start = int(center_x - 21)\n",
    "            y_start = int(center_y - 21)\n",
    "            x_end = x_start + 42\n",
    "            y_end = y_start + 42\n",
    "            \n",
    "            if 0 <= x_start < input_image.shape[1] and 0 <= y_start < input_image.shape[0]:\n",
    "                square_region = rotated_image[y_start:y_end, x_start:x_end]\n",
    "                result.append((square_region, transform_matrix))\n",
    "    \n",
    "    return result\n",
    "\n",
    "\n",
    "# 假设输入图像\n",
    "input_image = cv2.imread(\"layer_2.png\")\n",
    "\n",
    "# 调用函数\n",
    "squares_with_transform = extract_aligned_squares(input_image)"
   ]
  },
  {
   "cell_type": "code",
   "execution_count": 75,
   "id": "a4424259-c4bc-463b-8ffa-b3d3ddd920c2",
   "metadata": {
    "tags": []
   },
   "outputs": [
    {
     "data": {
      "image/png": "[encoded data removed]",
      "text/plain": [
       "<Figure size 400x400 with 1 Axes>"
      ]
     },
     "metadata": {},
     "output_type": "display_data"
    },
    {
     "name": "stdout",
     "output_type": "stream",
     "text": [
      "Transform Matrix for Square 1:\n",
      "[[ 9.98968540e-01  4.54076565e-02  0.00000000e+00 -3.38927800e+02]\n",
      " [-4.54076565e-02  9.98968540e-01  0.00000000e+00 -7.28544911e+02]\n",
      " [ 0.00000000e+00  0.00000000e+00  1.00000000e+00  0.00000000e+00]\n",
      " [ 0.00000000e+00  0.00000000e+00  0.00000000e+00  1.00000000e+00]]\n"
     ]
    },
    {
     "data": {
      "image/png": "[encoded data removed]",
      "text/plain": [
       "<Figure size 400x400 with 1 Axes>"
      ]
     },
     "metadata": {},
     "output_type": "display_data"
    },
    {
     "name": "stdout",
     "output_type": "stream",
     "text": [
      "Transform Matrix for Square 2:\n",
      "[[ 9.09064830e-01  4.16654694e-01  0.00000000e+00 -5.38574799e+02]\n",
      " [-4.16654694e-01  9.09064830e-01  0.00000000e+00 -5.96092676e+02]\n",
      " [ 0.00000000e+00  0.00000000e+00  1.00000000e+00  0.00000000e+00]\n",
      " [ 0.00000000e+00  0.00000000e+00  0.00000000e+00  1.00000000e+00]]\n"
     ]
    }
   ],
   "source": [
    "# 显示结果\n",
    "for idx, (square_image, transform_matrix) in enumerate(squares_with_transform):\n",
    "    # 显示裁剪后的正方形图像\n",
    "    plt.figure(figsize=(4, 4))\n",
    "    plt.imshow(cv2.cvtColor(square_image, cv2.COLOR_BGR2RGB))\n",
    "    plt.title(f\"Square {idx + 1}\")\n",
    "    plt.axis('off')\n",
    "    plt.show()\n",
    "\n",
    "    # 打印对应的仿射变换矩阵\n",
    "    print(f\"Transform Matrix for Square {idx + 1}:\\n{transform_matrix}\")"
   ]
  },
  {
   "cell_type": "code",
   "execution_count": 65,
   "id": "493293c8-7494-47f7-85e6-674ebb89c71c",
   "metadata": {
    "tags": []
   },
   "outputs": [
    {
     "name": "stdout",
     "output_type": "stream",
     "text": [
      "0.8 -0.75\n"
     ]
    }
   ],
   "source": [
    "def image_to_world(image_x, image_y, world_x_range, world_y_range, pixel_size, image_width, image_height):\n",
    "    \"\"\"\n",
    "    将图像坐标系转换为世界坐标系。\n",
    "\n",
    "    Args:\n",
    "        image_x (int): 图像坐标系中的 x 坐标（像素）。\n",
    "        image_y (int): 图像坐标系中的 y 坐标（像素）。\n",
    "        world_x_range (tuple): 世界坐标系的 x 轴范围 (min_x, max_x)。\n",
    "        world_y_range (tuple): 世界坐标系的 y 轴范围 (min_y, max_y)。\n",
    "        pixel_size (float): 每像素对应的世界坐标单位大小。\n",
    "        image_width (int): 图像的宽度（像素）。\n",
    "        image_height (int): 图像的高度（像素）。\n",
    "\n",
    "    Returns:\n",
    "        tuple: 世界坐标系中的 (world_x, world_y)。\n",
    "    \"\"\"\n",
    "    # 图像坐标系的 x 转换为世界坐标\n",
    "    world_x = world_x_range[0] + image_x * pixel_size\n",
    "\n",
    "    # 图像坐标系的 y 转换为世界坐标\n",
    "    # 这里需要注意 y 轴是反向的（图像坐标从上到下，世界坐标从下到上）\n",
    "    world_y = world_y_range[1] - image_y * pixel_size\n",
    "\n",
    "    return world_x, world_y\n",
    "\n",
    "# 假设输入参数\n",
    "image_x, image_y = 600, 1500  # 图像中的像素坐标\n",
    "world_x_range = (0.2, 0.8)  # 世界坐标 x 轴范围\n",
    "world_y_range = (-0.75, 0.75)  # 世界坐标 y 轴范围\n",
    "pixel_size = 0.001  # 每像素对应的世界坐标大小\n",
    "image_width = 600  # 图像宽度\n",
    "image_height = 1500  # 图像高度\n",
    "\n",
    "world_x, world_y = image_to_world(image_x, image_y, world_x_range, world_y_range, pixel_size, image_width, image_height)\n",
    "\n",
    "print(world_x, world_y)"
   ]
  },
  {
   "cell_type": "markdown",
   "id": "4f1b8e7f-4c0b-4b47-b37d-07c1bde29682",
   "metadata": {
    "tags": []
   },
   "source": [
    "# 6. 识别每一个面"
   ]
  },
  {
   "cell_type": "code",
   "execution_count": null,
   "id": "198a8b79-bf22-40cf-97d5-172fe00df1bf",
   "metadata": {},
   "outputs": [],
   "source": []
  },
  {
   "cell_type": "markdown",
   "id": "6589c218-60f3-4205-ae2b-42bcad15fb18",
   "metadata": {},
   "source": [
    "# 7. 取最上层放齐"
   ]
  },
  {
   "cell_type": "code",
   "execution_count": null,
   "id": "d64d9462-01d0-45e0-931a-9c90b933a538",
   "metadata": {},
   "outputs": [],
   "source": []
  }
 ],
 "metadata": {
  "kernelspec": {
   "display_name": "Python 3 (ipykernel)",
   "language": "python",
   "name": "python3"
  },
  "language_info": {
   "codemirror_mode": {
    "name": "ipython",
    "version": 3
   },
   "file_extension": ".py",
   "mimetype": "text/x-python",
   "name": "python",
   "nbconvert_exporter": "python",
   "pygments_lexer": "ipython3",
   "version": "3.8.10"
  }
 },
 "nbformat": 4,
 "nbformat_minor": 5
}
