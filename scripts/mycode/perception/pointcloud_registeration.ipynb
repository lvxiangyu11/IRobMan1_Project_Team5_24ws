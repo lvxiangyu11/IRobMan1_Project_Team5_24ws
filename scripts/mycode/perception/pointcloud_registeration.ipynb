{
 "cells": [
  {
   "cell_type": "code",
   "execution_count": 1,
   "id": "fb07e7dc-da30-42bf-9b0a-f383dad3786a",
   "metadata": {},
   "outputs": [
    {
     "name": "stdout",
     "output_type": "stream",
     "text": [
      "Cube mesh:\n",
      "TriangleMesh with 450 points and 390 triangles.\n",
      "ZED point cloud:\n",
      "PointCloud with 755965 points.\n"
     ]
    }
   ],
   "source": [
    "import open3d as o3d\n",
    "import numpy as np\n",
    "import copy\n",
    "# 定义文件路径\n",
    "cube_obj_path = \"mesh/cube_0.obj\"\n",
    "zed_ply_path = \"mesh/zed_point_cloud_world.ply\"\n",
    "\n",
    "# 读取 cube_0.obj 点云\n",
    "cube_mesh = o3d.io.read_triangle_mesh(cube_obj_path)\n",
    "cube_mesh.compute_vertex_normals()  # 计算法线以便更好显示\n",
    "\n",
    "# 读取 zed_point_cloud_world.ply 点云\n",
    "zed_point_cloud = o3d.io.read_point_cloud(zed_ply_path)\n",
    "\n",
    "# 打印点云和网格的信息\n",
    "print(\"Cube mesh:\")\n",
    "print(cube_mesh)  \n",
    "print(\"ZED point cloud:\")\n",
    "print(zed_point_cloud)\n"
   ]
  },
  {
   "cell_type": "code",
   "execution_count": 2,
   "id": "35926577-b675-4695-ae19-1bf48ddb9df2",
   "metadata": {},
   "outputs": [],
   "source": [
    "def filter_point_cloud_by_z(pcd, z_threshold=-0.001):\n",
    "    \"\"\"\n",
    "    过滤点云中所有 z < z_threshold 的点。\n",
    "    \n",
    "    Args:\n",
    "        pcd (open3d.geometry.PointCloud): 输入的点云对象。\n",
    "        z_threshold (float): z 轴的过滤阈值，小于该值的点将被移除。\n",
    "        \n",
    "    Returns:\n",
    "        open3d.geometry.PointCloud: 过滤后的点云对象。\n",
    "    \"\"\"\n",
    "    # 转换点云为 numpy 数组\n",
    "    points = np.asarray(pcd.points)\n",
    "    \n",
    "    # 过滤 z 值小于阈值的点\n",
    "    filtered_points = points[points[:, 2] >= z_threshold]\n",
    "    \n",
    "    # 创建新的点云对象\n",
    "    filtered_pcd = o3d.geometry.PointCloud()\n",
    "    filtered_pcd.points = o3d.utility.Vector3dVector(filtered_points)\n",
    "    \n",
    "    # 保留原始颜色（如果存在）\n",
    "    if pcd.has_colors():\n",
    "        colors = np.asarray(pcd.colors)\n",
    "        filtered_colors = colors[points[:, 2] >= z_threshold]\n",
    "        filtered_pcd.colors = o3d.utility.Vector3dVector(filtered_colors)\n",
    "    \n",
    "    return filtered_pcd"
   ]
  },
  {
   "cell_type": "code",
   "execution_count": 3,
   "id": "908261fc-f552-4d67-92c6-b26e6c03d1a6",
   "metadata": {},
   "outputs": [
    {
     "data": {
      "text/plain": [
       "PointCloud with 13737 points."
      ]
     },
     "execution_count": 3,
     "metadata": {},
     "output_type": "execute_result"
    }
   ],
   "source": [
    "zed_point_cloud = filter_point_cloud_by_z(zed_point_cloud)\n",
    "zed_point_cloud"
   ]
  },
  {
   "cell_type": "code",
   "execution_count": 4,
   "id": "193a72af-012d-4df4-9992-d8e4bd7c3f89",
   "metadata": {},
   "outputs": [
    {
     "data": {
      "text/plain": [
       "PointCloud with 10000 points."
      ]
     },
     "execution_count": 4,
     "metadata": {},
     "output_type": "execute_result"
    }
   ],
   "source": [
    "cube_point_cloud = cube_mesh.sample_points_uniformly(number_of_points=10000)  # 转为点云\n",
    "cube_point_cloud"
   ]
  },
  {
   "cell_type": "code",
   "execution_count": 5,
   "id": "37335f69-0492-487e-af8c-9473b6fb9af1",
   "metadata": {},
   "outputs": [],
   "source": [
    "coordinate_frame = o3d.geometry.TriangleMesh.create_coordinate_frame(\n",
    "    size=0.1,  # 坐标轴大小，可以根据需要调整\n",
    "    origin=[0, 0, 0]  # 坐标轴的原点\n",
    ")\n"
   ]
  },
  {
   "cell_type": "code",
   "execution_count": 6,
   "id": "c4f77c92-4291-40c8-8813-370f6f46943a",
   "metadata": {},
   "outputs": [],
   "source": [
    "def register_and_filter(pointcloud, mesh, voxel_size=0.01):\n",
    "    \"\"\"\n",
    "    对输入点云和网格进行配准，并返回配准变换矩阵和去除识别目标后的点云。\n",
    "    \n",
    "    Args:\n",
    "        pointcloud (o3d.geometry.PointCloud): 输入点云\n",
    "        mesh (o3d.geometry.TriangleMesh): 输入网格\n",
    "        voxel_size (float): 体素大小，用于下采样\n",
    "    \n",
    "    Returns:\n",
    "        transform (numpy.ndarray): 配准的变换矩阵\n",
    "        remaining_pointcloud (o3d.geometry.PointCloud): 去除识别目标后的剩余点云\n",
    "    \"\"\"\n",
    "    # 确保输入的 mesh 是 TriangleMesh 对象\n",
    "    if isinstance(mesh, o3d.geometry.TriangleMesh):\n",
    "        # 转换网格为点云\n",
    "        mesh_pointcloud = mesh.sample_points_uniformly(number_of_points=1000)\n",
    "    elif isinstance(mesh, o3d.geometry.PointCloud):\n",
    "        # 如果已经是点云，直接使用\n",
    "        mesh_pointcloud = copy.deepcopy(mesh)\n",
    "    else:\n",
    "        raise TypeError(\"Input mesh must be of type o3d.geometry.TriangleMesh or o3d.geometry.PointCloud\")\n",
    "\n",
    "    # 下采样点云并计算法线和特征\n",
    "    def preprocess_point_cloud(pcd, voxel_size):\n",
    "        pcd_down = pcd.voxel_down_sample(voxel_size)\n",
    "        pcd_down.estimate_normals(search_param=o3d.geometry.KDTreeSearchParamHybrid(radius=voxel_size*2, max_nn=30))\n",
    "        pcd_fpfh = o3d.pipelines.registration.compute_fpfh_feature(\n",
    "            pcd_down,\n",
    "            search_param=o3d.geometry.KDTreeSearchParamHybrid(radius=voxel_size*5, max_nn=100))\n",
    "        return pcd_down, pcd_fpfh\n",
    "\n",
    "    # 粗配准\n",
    "    def execute_global_registration(source_down, target_down, source_fpfh, target_fpfh, voxel_size):\n",
    "        distance_threshold = voxel_size * 1.5\n",
    "        result = o3d.pipelines.registration.registration_ransac_based_on_feature_matching(\n",
    "            source_down, target_down, source_fpfh, target_fpfh, True,\n",
    "            distance_threshold,\n",
    "            o3d.pipelines.registration.TransformationEstimationPointToPoint(False),\n",
    "            4,  # RANSAC 采样数量\n",
    "            [o3d.pipelines.registration.CorrespondenceCheckerBasedOnEdgeLength(0.9),\n",
    "             o3d.pipelines.registration.CorrespondenceCheckerBasedOnDistance(distance_threshold)],\n",
    "            o3d.pipelines.registration.RANSACConvergenceCriteria(100000, 200))\n",
    "        return result\n",
    "\n",
    "    # Todo: 考虑使用PointToPlane的优化目标\n",
    "    # 精配准\n",
    "    def refine_registration(source, target, initial_transformation, voxel_size):\n",
    "        distance_threshold = voxel_size * 1\n",
    "        result = o3d.pipelines.registration.registration_icp(\n",
    "            source, target, distance_threshold, initial_transformation,\n",
    "            o3d.pipelines.registration.TransformationEstimationPointToPoint(),\n",
    "            # PointToPlane\n",
    "            o3d.pipelines.registration.ICPConvergenceCriteria(max_iteration=1000000)\n",
    "        )\n",
    "        return result\n",
    "\n",
    "    # 下采样点云并计算特征\n",
    "    source_down, source_fpfh = preprocess_point_cloud(mesh_pointcloud, voxel_size)\n",
    "    target_down, target_fpfh = preprocess_point_cloud(pointcloud, voxel_size)\n",
    "\n",
    "    # 粗配准\n",
    "    coarse_result = execute_global_registration(source_down, target_down, source_fpfh, target_fpfh, voxel_size)\n",
    "\n",
    "    # 精配准\n",
    "    refined_result = refine_registration(mesh_pointcloud, pointcloud, coarse_result.transformation, voxel_size)\n",
    "    print(refined_result)\n",
    "\n",
    "    # 将网格点云变换到目标点云的空间\n",
    "    transform = refined_result.transformation\n",
    "    transformed_mesh_pointcloud = mesh_pointcloud.transform(transform)\n",
    "\n",
    "    # 创建包围盒裁剪目标点云\n",
    "    bounding_box = transformed_mesh_pointcloud.get_axis_aligned_bounding_box()\n",
    "    deleted_pointcloud = pointcloud.crop(bounding_box)  # 被删除的点\n",
    "    remaining_pointcloud = pointcloud.crop(bounding_box, invert=True)  # 剩余的点\n",
    "\n",
    "    return transform, remaining_pointcloud, deleted_pointcloud\n"
   ]
  },
  {
   "cell_type": "code",
   "execution_count": 22,
   "id": "90e9edac-3524-4f48-8690-639941ed524f",
   "metadata": {},
   "outputs": [
    {
     "name": "stdout",
     "output_type": "stream",
     "text": [
      "[Open3D WARNING] Too few correspondences (5) after mutual filter, fall back to original correspondences.\n",
      "RegistrationResult with fitness=7.203000e-01, inlier_rmse=3.384506e-03, and correspondence_set size of 7203\n",
      "Access transformation to get result.\n"
     ]
    }
   ],
   "source": [
    "transform, remaining_pointcloud, deleted_pointcloud = register_and_filter(zed_point_cloud, cube_point_cloud)"
   ]
  },
  {
   "cell_type": "code",
   "execution_count": 24,
   "id": "5c0c992d-0fbc-4a77-9cc9-79c886df851f",
   "metadata": {},
   "outputs": [
    {
     "data": {
      "text/plain": [
       "array([[-0.02178054, -0.52280203,  0.85217583,  0.28532087],\n",
       "       [ 0.0096058 , -0.85244812, -0.52272357,  0.26581992],\n",
       "       [ 0.99971663, -0.00319937,  0.02358871,  0.02074069],\n",
       "       [ 0.        ,  0.        ,  0.        ,  1.        ]])"
      ]
     },
     "execution_count": 24,
     "metadata": {},
     "output_type": "execute_result"
    }
   ],
   "source": [
    "transform"
   ]
  },
  {
   "cell_type": "code",
   "execution_count": 18,
   "id": "c223998a-1fd1-475a-b2c0-814027f4a6dd",
   "metadata": {},
   "outputs": [
    {
     "data": {
      "text/plain": [
       "PointCloud with 7474 points."
      ]
     },
     "execution_count": 18,
     "metadata": {},
     "output_type": "execute_result"
    }
   ],
   "source": [
    "remaining_pointcloud"
   ]
  },
  {
   "cell_type": "code",
   "execution_count": 23,
   "id": "36c683fb-43d2-452c-b6f2-fa7500760f5d",
   "metadata": {},
   "outputs": [],
   "source": [
    "cube_point_cloud_transormed = copy.deepcopy(cube_point_cloud)\n",
    "cube_point_cloud_transormed = cube_point_cloud_transormed.transform(transform)\n",
    "o3d.visualization.draw_geometries([cube_point_cloud, cube_point_cloud_transormed, zed_point_cloud, coordinate_frame],\n",
    "                                  window_name=\"Aligned Point Clouds\")"
   ]
  },
  {
   "cell_type": "code",
   "execution_count": 11,
   "id": "95f3c4d8-4027-484c-9a35-26c1389821de",
   "metadata": {},
   "outputs": [],
   "source": [
    "# 显示点云和坐标轴\n",
    "o3d.visualization.draw_geometries(\n",
    "    [cube_mesh, remaining_pointcloud, coordinate_frame],  # 添加坐标轴到显示列表\n",
    "    window_name=\"Point Clouds and Mesh Display\",\n",
    "    width=800,\n",
    "    height=600,\n",
    "    left=50,\n",
    "    top=50,\n",
    "    mesh_show_wireframe=True\n",
    ")"
   ]
  },
  {
   "cell_type": "code",
   "execution_count": 22,
   "id": "668ee281-ed95-4d29-ba5a-a4b21717de0a",
   "metadata": {},
   "outputs": [
    {
     "name": "stdout",
     "output_type": "stream",
     "text": [
      "[Open3D WARNING] Too few correspondences (2) after mutual filter, fall back to original correspondences.\n",
      "RegistrationResult with fitness=7.318000e-01, inlier_rmse=3.694957e-03, and correspondence_set size of 7318\n",
      "Access transformation to get result.\n"
     ]
    }
   ],
   "source": [
    "transform2, remaining_pointcloud2, deleted_pointcloud2 = register_and_filter(remaining_pointcloud, cube_point_cloud)\n"
   ]
  },
  {
   "cell_type": "code",
   "execution_count": 23,
   "id": "6e1e7f02-31c7-457e-8a52-2bee348dec22",
   "metadata": {},
   "outputs": [
    {
     "data": {
      "text/plain": [
       "array([[-0.029901  ,  0.99907209, -0.03099815,  0.55151608],\n",
       "       [ 0.03098061,  0.03192343,  0.99901006, -0.30299872],\n",
       "       [ 0.99907264,  0.02891106, -0.03190641,  0.01866077],\n",
       "       [ 0.        ,  0.        ,  0.        ,  1.        ]])"
      ]
     },
     "execution_count": 23,
     "metadata": {},
     "output_type": "execute_result"
    }
   ],
   "source": [
    "transform"
   ]
  },
  {
   "cell_type": "code",
   "execution_count": 24,
   "id": "c6ea7549-0fa5-4738-8d82-068dc3c88ab5",
   "metadata": {},
   "outputs": [
    {
     "data": {
      "text/plain": [
       "PointCloud with 3895 points."
      ]
     },
     "execution_count": 24,
     "metadata": {},
     "output_type": "execute_result"
    }
   ],
   "source": [
    "remaining_pointcloud2"
   ]
  },
  {
   "cell_type": "code",
   "execution_count": 25,
   "id": "21f1288e-4247-45f9-b4f2-1d2b33a857be",
   "metadata": {},
   "outputs": [],
   "source": [
    "cube_point_cloud_transormed = copy.deepcopy(cube_point_cloud)\n",
    "cube_point_cloud_transormed = cube_point_cloud_transormed.transform(transform)\n",
    "o3d.visualization.draw_geometries([cube_point_cloud_transormed, remaining_pointcloud2, coordinate_frame],\n",
    "                                  window_name=\"Aligned Point Clouds\")"
   ]
  },
  {
   "cell_type": "code",
   "execution_count": null,
   "id": "ac560494-bcc1-4500-9d33-27c70727f68e",
   "metadata": {},
   "outputs": [],
   "source": []
  },
  {
   "cell_type": "code",
   "execution_count": 26,
   "id": "651085d0-86bc-4fe8-ba0b-ad2b52a8cee5",
   "metadata": {},
   "outputs": [
    {
     "name": "stdout",
     "output_type": "stream",
     "text": [
      "[Open3D WARNING] Too few correspondences (4) after mutual filter, fall back to original correspondences.\n",
      "RegistrationResult with fitness=7.228000e-01, inlier_rmse=3.587330e-03, and correspondence_set size of 7228\n",
      "Access transformation to get result.\n"
     ]
    }
   ],
   "source": [
    "transform3, remaining_pointcloud3, deleted_pointcloud3 = register_and_filter(remaining_pointcloud2, cube_point_cloud)\n"
   ]
  },
  {
   "cell_type": "code",
   "execution_count": 27,
   "id": "84d700b9-c2d3-4abf-b4b2-2dcd988bd071",
   "metadata": {},
   "outputs": [
    {
     "data": {
      "text/plain": [
       "array([[-0.03746295,  0.37215917,  0.92741257,  0.47366863],\n",
       "       [ 0.04844664, -0.92629636,  0.37366826, -0.13654242],\n",
       "       [ 0.99812296,  0.05892874,  0.01667193,  0.01939211],\n",
       "       [ 0.        ,  0.        ,  0.        ,  1.        ]])"
      ]
     },
     "execution_count": 27,
     "metadata": {},
     "output_type": "execute_result"
    }
   ],
   "source": [
    "transform3"
   ]
  },
  {
   "cell_type": "code",
   "execution_count": 28,
   "id": "09ce89e5-f380-45f2-a03d-e6960aa122e6",
   "metadata": {},
   "outputs": [
    {
     "data": {
      "text/plain": [
       "PointCloud with 19 points."
      ]
     },
     "execution_count": 28,
     "metadata": {},
     "output_type": "execute_result"
    }
   ],
   "source": [
    "remaining_pointcloud3"
   ]
  },
  {
   "cell_type": "code",
   "execution_count": 25,
   "id": "29770ac0-e61a-4914-81b7-8cc87022074f",
   "metadata": {},
   "outputs": [
    {
     "ename": "NameError",
     "evalue": "name 'remaining_pointcloud3' is not defined",
     "output_type": "error",
     "traceback": [
      "\u001b[1;31m---------------------------------------------------------------------------\u001b[0m",
      "\u001b[1;31mNameError\u001b[0m                                 Traceback (most recent call last)",
      "Cell \u001b[1;32mIn[25], line 3\u001b[0m\n\u001b[0;32m      1\u001b[0m cube_point_cloud_transormed \u001b[38;5;241m=\u001b[39m copy\u001b[38;5;241m.\u001b[39mdeepcopy(cube_point_cloud)\n\u001b[0;32m      2\u001b[0m cube_point_cloud_transormed \u001b[38;5;241m=\u001b[39m cube_point_cloud_transormed\u001b[38;5;241m.\u001b[39mtransform(transform)\n\u001b[1;32m----> 3\u001b[0m o3d\u001b[38;5;241m.\u001b[39mvisualization\u001b[38;5;241m.\u001b[39mdraw_geometries([cube_point_cloud_transormed, \u001b[43mremaining_pointcloud3\u001b[49m, coordinate_frame],\n\u001b[0;32m      4\u001b[0m                                   window_name\u001b[38;5;241m=\u001b[39m\u001b[38;5;124m\"\u001b[39m\u001b[38;5;124mAligned Point Clouds\u001b[39m\u001b[38;5;124m\"\u001b[39m)\n",
      "\u001b[1;31mNameError\u001b[0m: name 'remaining_pointcloud3' is not defined"
     ]
    }
   ],
   "source": [
    "cube_point_cloud_transormed = copy.deepcopy(cube_point_cloud)\n",
    "cube_point_cloud_transormed = cube_point_cloud_transormed.transform(transform)\n",
    "o3d.visualization.draw_geometries([cube_point_cloud_transormed, remaining_pointcloud3, coordinate_frame],\n",
    "                                  window_name=\"Aligned Point Clouds\")"
   ]
  },
  {
   "cell_type": "code",
   "execution_count": 26,
   "id": "fd0470c4-8f71-4303-b27a-c1a5265eb006",
   "metadata": {},
   "outputs": [],
   "source": [
    "o3d.visualization.draw_geometries([deleted_pointcloud, coordinate_frame],\n",
    "                                  window_name=\"Aligned Point Clouds\")"
   ]
  },
  {
   "cell_type": "code",
   "execution_count": 27,
   "id": "b69e6618-7846-484a-b0fb-d37e62d2c7a4",
   "metadata": {},
   "outputs": [],
   "source": [
    "\n",
    "import scipy.ndimage\n",
    "import matplotlib.pyplot as plt"
   ]
  },
  {
   "cell_type": "code",
   "execution_count": 28,
   "id": "991dc72a-7b4d-4c9e-885e-4c6200cf5864",
   "metadata": {},
   "outputs": [],
   "source": [
    "def pointcloud_to_top_view_image(pointcloud, voxel_size=0.01, output_image_size=(512, 512)):\n",
    "    \"\"\"\n",
    "    从点云生成正上方的 2D 图像。\n",
    "    \n",
    "    Args:\n",
    "        pointcloud (o3d.geometry.PointCloud): 输入点云\n",
    "        voxel_size (float): 分辨率，用于划分网格\n",
    "        output_image_size (tuple): 输出图像大小 (width, height)\n",
    "    \n",
    "    Returns:\n",
    "        top_view_image (numpy.ndarray): 生成的 2D 图像\n",
    "    \"\"\"\n",
    "    # 获取点云的点坐标\n",
    "    points = np.asarray(pointcloud.points)\n",
    "\n",
    "    # 提取 x-y 范围\n",
    "    x_min, y_min = np.min(points[:, :2], axis=0)\n",
    "    x_max, y_max = np.max(points[:, :2], axis=0)\n",
    "\n",
    "    # 定义网格分辨率\n",
    "    width, height = output_image_size\n",
    "    grid_x = np.linspace(x_min, x_max, width)\n",
    "    grid_y = np.linspace(y_min, y_max, height)\n",
    "\n",
    "    # 初始化 2D 图像\n",
    "    top_view_image = np.zeros((height, width))\n",
    "\n",
    "    # 遍历点云，将每个点投影到网格上\n",
    "    for point in points:\n",
    "        x, y, z = point\n",
    "        # 找到对应的网格索引\n",
    "        x_idx = int((x - x_min) / (x_max - x_min) * (width - 1))\n",
    "        y_idx = int((y - y_min) / (y_max - y_min) * (height - 1))\n",
    "        # 在对应网格中记录高度（或其他属性）\n",
    "        top_view_image[height - 1 - y_idx, x_idx] += z  # 使用高度作为灰度值\n",
    "\n",
    "    # 归一化图像\n",
    "    top_view_image -= np.min(top_view_image)\n",
    "    top_view_image /= np.max(top_view_image)\n",
    "\n",
    "    return top_view_image\n",
    "\n",
    "\n"
   ]
  },
  {
   "cell_type": "code",
   "execution_count": 29,
   "id": "dfdf72fd-ae92-413d-bc70-96963d60ede5",
   "metadata": {},
   "outputs": [],
   "source": [
    "import numpy as np\n",
    "import open3d as o3d\n",
    "\n",
    "def pointcloud_to_top_view_image_color(pointcloud, voxel_size=0.01, output_image_size=(512, 512)):\n",
    "    \"\"\"\n",
    "    从点云生成正上方的彩色 2D 图像。\n",
    "    \n",
    "    Args:\n",
    "        pointcloud (o3d.geometry.PointCloud): 输入点云\n",
    "        voxel_size (float): 分辨率，用于划分网格\n",
    "        output_image_size (tuple): 输出图像大小 (width, height)\n",
    "    \n",
    "    Returns:\n",
    "        top_view_image (numpy.ndarray): 生成的 2D 彩色图像\n",
    "    \"\"\"\n",
    "    # 获取点云的点坐标和颜色\n",
    "    points = np.asarray(pointcloud.points)\n",
    "    colors = np.asarray(pointcloud.colors) if pointcloud.has_colors() else np.zeros_like(points)\n",
    "\n",
    "    # 提取 x-y 范围\n",
    "    x_min, y_min = np.min(points[:, :2], axis=0)\n",
    "    x_max, y_max = np.max(points[:, :2], axis=0)\n",
    "    print(x_max, y_max)\n",
    "\n",
    "    # 定义网格分辨率\n",
    "    width, height = output_image_size\n",
    "    grid_x = np.linspace(x_min, x_max, width)\n",
    "    grid_y = np.linspace(y_min, y_max, height)\n",
    "\n",
    "    # 初始化 2D 彩色图像\n",
    "    top_view_image = np.zeros((height, width, 3))  # RGB 图像\n",
    "\n",
    "    # 初始化计数矩阵以累积颜色\n",
    "    count_matrix = np.zeros((height, width))\n",
    "\n",
    "    # 遍历点云，将每个点投影到网格上\n",
    "    for point, color in zip(points, colors):\n",
    "        x, y, z = point\n",
    "        # 找到对应的网格索引\n",
    "        x_idx = int((x - x_min) / (x_max - x_min) * (width - 1))\n",
    "        y_idx = int((y - y_min) / (y_max - y_min) * (height - 1))\n",
    "        \n",
    "        # 更新彩色图像和计数矩阵\n",
    "        top_view_image[height - 1 - y_idx, x_idx] += color  # 累加颜色\n",
    "        count_matrix[height - 1 - y_idx, x_idx] += 1\n",
    "\n",
    "    # 平均化颜色值\n",
    "    nonzero_mask = count_matrix > 0\n",
    "    top_view_image[nonzero_mask] /= count_matrix[nonzero_mask, None]\n",
    "\n",
    "    # 将结果归一化到 0-1 范围内\n",
    "    top_view_image = np.clip(top_view_image, 0, 1)\n",
    "\n",
    "    return top_view_image\n"
   ]
  },
  {
   "cell_type": "code",
   "execution_count": 30,
   "id": "b796cac2-3603-4568-a297-97991645434d",
   "metadata": {},
   "outputs": [],
   "source": [
    "# 创建一个沿 Y 轴旋转的变换矩阵\n",
    "def create_rotation_matrix_y(theta):\n",
    "    \"\"\"\n",
    "    创建沿 Y 轴旋转的 4x4 仿射变换矩阵。\n",
    "    \n",
    "    Args:\n",
    "        theta (float): 绕 Y 轴旋转的角度（弧度）。\n",
    "    \n",
    "    Returns:\n",
    "        np.ndarray: 4x4 仿射变换矩阵。\n",
    "    \"\"\"\n",
    "    cos_theta = np.cos(theta)\n",
    "    sin_theta = np.sin(theta)\n",
    "    rotation_matrix = np.array([\n",
    "        [cos_theta, 0, sin_theta, 0],\n",
    "        [0, 1, 0, 0],\n",
    "        [-sin_theta, 0, cos_theta, 0],\n",
    "        [0, 0, 0, 1]\n",
    "    ])\n",
    "    return rotation_matrix"
   ]
  },
  {
   "cell_type": "code",
   "execution_count": 38,
   "id": "19fcbdde-c44f-4680-928c-6f230b5d6665",
   "metadata": {},
   "outputs": [
    {
     "name": "stdout",
     "output_type": "stream",
     "text": [
      "0.02231553791047393 0.022557249875079066\n"
     ]
    }
   ],
   "source": [
    "deleted_pointcloud_transformed = copy.deepcopy(deleted_pointcloud)\n",
    "transformer_inv = np.linalg.inv(transform)\n",
    "deleted_pointcloud_transformed.transform(transformer_inv)\n",
    "# 生成 Y 轴旋转矩阵（π弧度）\n",
    "rotation_matrix_y = create_rotation_matrix_y(-np.pi/2)\n",
    "\n",
    "# 在 transformed 点云上再应用 Y 轴旋转\n",
    "deleted_pointcloud_transformed.transform(rotation_matrix_y)\n",
    "# 生成正上方的彩色 2D 图像\n",
    "top_view_image_color = pointcloud_to_top_view_image_color(deleted_pointcloud_transformed)\n",
    "o3d.visualization.draw_geometries([deleted_pointcloud, deleted_pointcloud_transformed, coordinate_frame],\n",
    "                                  window_name=\"Aligned Point Clouds\")"
   ]
  },
  {
   "cell_type": "code",
   "execution_count": 39,
   "id": "ce1645b6-3ea6-470f-b447-7a4e55f9ee91",
   "metadata": {},
   "outputs": [],
   "source": [
    "import scipy.ndimage\n",
    "\n",
    "def interpolate_sparse_image(image, dilation_size=(7, 7)):\n",
    "    \"\"\"\n",
    "    对稀疏的彩色图像进行插值填充。\n",
    "    \n",
    "    Args:\n",
    "        image (numpy.ndarray): 输入彩色图像 (height, width, 3)\n",
    "        dilation_size (tuple): 膨胀操作的邻域大小 (height, width)\n",
    "    \n",
    "    Returns:\n",
    "        interpolated_image (numpy.ndarray): 插值后的彩色图像\n",
    "    \"\"\"\n",
    "    interpolated_image = image.copy()\n",
    "    for i in range(3):  # 分别处理 RGB 三个通道\n",
    "        interpolated_image[:, :, i] = scipy.ndimage.morphology.grey_dilation(\n",
    "            image[:, :, i], size=dilation_size\n",
    "        )\n",
    "    return interpolated_image"
   ]
  },
  {
   "cell_type": "code",
   "execution_count": 40,
   "id": "acb3c992-f135-4beb-9130-36e3a5bb028e",
   "metadata": {},
   "outputs": [
    {
     "name": "stderr",
     "output_type": "stream",
     "text": [
      "C:\\Users\\lvxiangyu11\\AppData\\Local\\Temp\\ipykernel_377396\\1455669674.py:16: DeprecationWarning: Please import `grey_dilation` from the `scipy.ndimage` namespace; the `scipy.ndimage.morphology` namespace is deprecated and will be removed in SciPy 2.0.0.\n",
      "  interpolated_image[:, :, i] = scipy.ndimage.morphology.grey_dilation(\n"
     ]
    },
    {
     "data": {
      "image/png": "[encoded data removed]",
      "text/plain": [
       "<Figure size 640x480 with 1 Axes>"
      ]
     },
     "metadata": {},
     "output_type": "display_data"
    }
   ],
   "source": [
    "import matplotlib.pyplot as plt\n",
    "top_view_image_color_interpolated = interpolate_sparse_image(top_view_image_color, dilation_size=(15, 15))\n",
    "# 显示图像\n",
    "plt.imshow(top_view_image_color)\n",
    "plt.title(\"Top-Down View of Colored Point Cloud\")\n",
    "plt.axis(\"off\")\n",
    "plt.show()\n"
   ]
  },
  {
   "cell_type": "code",
   "execution_count": 41,
   "id": "6959458a-0707-47f4-840e-8ff6871458c0",
   "metadata": {},
   "outputs": [],
   "source": [
    "import numpy as np\n",
    "\n",
    "def max_downsample_image(image, pool_size=(2, 2)):\n",
    "    \"\"\"\n",
    "    使用最大值池化对图像进行降采样。\n",
    "\n",
    "    Args:\n",
    "        image (numpy.ndarray): 输入彩色图像 (height, width, 3)\n",
    "        pool_size (tuple): 池化窗口大小 (height, width)\n",
    "\n",
    "    Returns:\n",
    "        downsampled_image (numpy.ndarray): 降采样后的图像\n",
    "    \"\"\"\n",
    "    h, w, c = image.shape\n",
    "    ph, pw = pool_size\n",
    "\n",
    "    # 确保图像尺寸是池化窗口的整数倍\n",
    "    h_new = h // ph * ph\n",
    "    w_new = w // pw * pw\n",
    "    image_cropped = image[:h_new, :w_new, :]\n",
    "\n",
    "    # 使用最大池化降采样\n",
    "    downsampled_image = image_cropped.reshape(h_new // ph, ph, w_new // pw, pw, c).max(axis=(1, 3))\n",
    "\n",
    "    return downsampled_image"
   ]
  },
  {
   "cell_type": "code",
   "execution_count": 42,
   "id": "caedd1ed-f5dc-4eb9-b906-40b4302fedaa",
   "metadata": {},
   "outputs": [
    {
     "data": {
      "image/png": "[encoded data removed]",
      "text/plain": [
       "<Figure size 640x480 with 1 Axes>"
      ]
     },
     "metadata": {},
     "output_type": "display_data"
    },
    {
     "data": {
      "text/plain": [
       "<Figure size 640x480 with 0 Axes>"
      ]
     },
     "metadata": {},
     "output_type": "display_data"
    }
   ],
   "source": [
    "# 使用最大值池化进行降采样\n",
    "downsampled_image_max = max_downsample_image(top_view_image_color, pool_size=(13, 13))\n",
    "\n",
    "# 显示降采样后的图像\n",
    "plt.imshow(downsampled_image_max)\n",
    "plt.title(\"Max-Pooling Downsampled Top-Down View\")\n",
    "plt.axis(\"off\")\n",
    "plt.show()\n",
    "plt.savefig(\"test.png\")"
   ]
  },
  {
   "cell_type": "code",
   "execution_count": 43,
   "id": "988a9491-c1f0-4547-87af-eae52272716d",
   "metadata": {},
   "outputs": [],
   "source": [
    "from PIL import Image\n",
    "# 将数组转换为 0-255 范围的整数值以适应 PNG 格式\n",
    "downsampled_image_uint8 = (downsampled_image_max * 255).astype(np.uint8)\n",
    "\n",
    "# 创建 PIL 图像对象\n",
    "image_to_save = Image.fromarray(downsampled_image_uint8)\n",
    "\n",
    "# 保存图像为 test.png\n",
    "image_to_save.save(\"test.png\")"
   ]
  },
  {
   "cell_type": "code",
   "execution_count": null,
   "id": "53d7e006-7c98-4cee-9c78-240a3c32341b",
   "metadata": {},
   "outputs": [],
   "source": []
  },
  {
   "cell_type": "code",
   "execution_count": null,
   "id": "8ce94855-a134-4643-b42e-cc32b4abda1f",
   "metadata": {},
   "outputs": [],
   "source": []
  },
  {
   "cell_type": "code",
   "execution_count": 52,
   "id": "1b8547ba-0cc1-4820-bd48-4807956f47ab",
   "metadata": {},
   "outputs": [],
   "source": [
    "import matplotlib.pyplot as plt\n"
   ]
  },
  {
   "cell_type": "code",
   "execution_count": 39,
   "id": "477b1d85-d77b-4d9c-9f00-d7e697c99647",
   "metadata": {},
   "outputs": [
    {
     "name": "stdout",
     "output_type": "stream",
     "text": [
      "0.0195010724823859 0.023692413926928668\n"
     ]
    }
   ],
   "source": [
    "from PIL import Image\n",
    "\n",
    "deleted_pointcloud_transformed2 = copy.deepcopy(deleted_pointcloud2)\n",
    "transformer_inv2 = np.linalg.inv(transform2)\n",
    "deleted_pointcloud_transformed2.transform(transformer_inv2)\n",
    "# 生成 Y 轴旋转矩阵（π弧度）\n",
    "rotation_matrix_y = create_rotation_matrix_y(np.pi)\n",
    "\n",
    "# 在 transformed 点云上再应用 Y 轴旋转\n",
    "deleted_pointcloud_transformed2.transform(rotation_matrix_y)\n",
    "o3d.visualization.draw_geometries([deleted_pointcloud2, deleted_pointcloud_transformed2, coordinate_frame],\n",
    "                                  window_name=\"Aligned Point Clouds\")\n",
    "# 生成正上方的彩色 2D 图像\n",
    "top_view_image_color2 = pointcloud_to_top_view_image_color(deleted_pointcloud_transformed2)\n",
    "downsampled_image_max2 = max_downsample_image(top_view_image_color2, pool_size=(13, 13))\n",
    "\n",
    "from PIL import Image\n",
    "# 将数组转换为 0-255 范围的整数值以适应 PNG 格式\n",
    "downsampled_image_uint82 = (downsampled_image_max2 * 255).astype(np.uint8)\n",
    "\n",
    "# 创建 PIL 图像对象\n",
    "image_to_save = Image.fromarray(downsampled_image_uint82)\n",
    "\n",
    "# 保存图像为 test.png\n",
    "image_to_save.save(\"test2.png\")"
   ]
  },
  {
   "cell_type": "code",
   "execution_count": 40,
   "id": "fdc1aafb-7cc5-4a05-9c2b-26ed1768e0e1",
   "metadata": {},
   "outputs": [
    {
     "name": "stdout",
     "output_type": "stream",
     "text": [
      "0.0195010724823859 0.023692413926928668\n"
     ]
    }
   ],
   "source": [
    "from PIL import Image\n",
    "\n",
    "deleted_pointcloud_transformed2 = copy.deepcopy(deleted_pointcloud2)\n",
    "transformer_inv2 = np.linalg.inv(transform2)\n",
    "deleted_pointcloud_transformed2.transform(transformer_inv2)\n",
    "# 生成 Y 轴旋转矩阵（π弧度）\n",
    "rotation_matrix_y = create_rotation_matrix_y(np.pi)\n",
    "\n",
    "# 在 transformed 点云上再应用 Y 轴旋转\n",
    "deleted_pointcloud_transformed2.transform(rotation_matrix_y)\n",
    "o3d.visualization.draw_geometries([deleted_pointcloud2, deleted_pointcloud_transformed2, coordinate_frame],\n",
    "                                  window_name=\"Aligned Point Clouds\")\n",
    "# 生成正上方的彩色 2D 图像\n",
    "top_view_image_color2 = pointcloud_to_top_view_image_color(deleted_pointcloud_transformed2)\n",
    "downsampled_image_max2 = max_downsample_image(top_view_image_color2, pool_size=(13, 13))\n",
    "\n",
    "from PIL import Image\n",
    "# 将数组转换为 0-255 范围的整数值以适应 PNG 格式\n",
    "downsampled_image_uint82 = (downsampled_image_max2 * 255).astype(np.uint8)\n",
    "\n",
    "# 创建 PIL 图像对象\n",
    "image_to_save = Image.fromarray(downsampled_image_uint82)\n",
    "\n",
    "# 保存图像为 test.png\n",
    "image_to_save.save(\"test2.png\")"
   ]
  },
  {
   "cell_type": "code",
   "execution_count": 62,
   "id": "da8b547f-b3ee-42dd-a4bd-01a02ca86e2c",
   "metadata": {},
   "outputs": [
    {
     "name": "stdout",
     "output_type": "stream",
     "text": [
      "0.022301313928595357 0.02463805191668711\n"
     ]
    },
    {
     "data": {
      "image/png": "[encoded data removed]",
      "text/plain": [
       "<Figure size 640x480 with 1 Axes>"
      ]
     },
     "metadata": {},
     "output_type": "display_data"
    },
    {
     "data": {
      "text/plain": [
       "<Figure size 640x480 with 0 Axes>"
      ]
     },
     "metadata": {},
     "output_type": "display_data"
    }
   ],
   "source": [
    "from PIL import Image\n",
    "\n",
    "deleted_pointcloud_transformed3 = copy.deepcopy(deleted_pointcloud3)\n",
    "transformer_inv3 = np.linalg.inv(transform3)\n",
    "deleted_pointcloud_transformed3.transform(transformer_inv3)\n",
    "# 生成 Y 轴旋转矩阵（π弧度）\n",
    "rotation_matrix_y = create_rotation_matrix_y(-np.pi/2)\n",
    "\n",
    "# 在 transformed 点云上再应用 Y 轴旋转\n",
    "deleted_pointcloud_transformed3.transform(rotation_matrix_y)\n",
    "o3d.visualization.draw_geometries([deleted_pointcloud_transformed3, coordinate_frame],\n",
    "                                  window_name=\"Aligned Point Clouds\")\n",
    "# 生成正上方的彩色 2D 图像\n",
    "top_view_image_color3 = pointcloud_to_top_view_image_color(deleted_pointcloud_transformed3)\n",
    "downsampled_image_max3 = max_downsample_image(top_view_image_color3, pool_size=(15, 15))\n",
    "\n",
    "plt.imshow(downsampled_image_max3)\n",
    "plt.title(\"Max-Pooling Downsampled Top-Down View\")\n",
    "plt.axis(\"off\")\n",
    "plt.show()\n",
    "plt.savefig(\"test.png\")\n",
    "\n",
    "# 将数组转换为 0-255 范围的整数值以适应 PNG 格式\n",
    "downsampled_image_uint83 = (downsampled_image_max3 * 255).astype(np.uint8)\n",
    "\n",
    "# 创建 PIL 图像对象\n",
    "image_to_save = Image.fromarray(downsampled_image_uint83)\n",
    "\n",
    "# 保存图像为 test.png\n",
    "image_to_save.save(\"test2.png\")"
   ]
  },
  {
   "cell_type": "code",
   "execution_count": null,
   "id": "6bb037df-b739-4e5e-9e90-218aa3bdbf80",
   "metadata": {},
   "outputs": [],
   "source": []
  },
  {
   "cell_type": "markdown",
   "id": "64c64b16-deec-4ad0-bdb3-29217b7c7d71",
   "metadata": {},
   "source": [
    "# 尝试使用LLM，废弃"
   ]
  },
  {
   "cell_type": "code",
   "execution_count": 24,
   "id": "c816320d-6f18-49b4-b96b-1d06c66880ec",
   "metadata": {},
   "outputs": [
    {
     "ename": "NameError",
     "evalue": "name 'base64' is not defined",
     "output_type": "error",
     "traceback": [
      "\u001b[1;31m---------------------------------------------------------------------------\u001b[0m",
      "\u001b[1;31mNameError\u001b[0m                                 Traceback (most recent call last)",
      "Cell \u001b[1;32mIn[24], line 2\u001b[0m\n\u001b[0;32m      1\u001b[0m \u001b[38;5;28;01mwith\u001b[39;00m \u001b[38;5;28mopen\u001b[39m(\u001b[38;5;124m\"\u001b[39m\u001b[38;5;124mtest3.png\u001b[39m\u001b[38;5;124m\"\u001b[39m, \u001b[38;5;124m\"\u001b[39m\u001b[38;5;124mrb\u001b[39m\u001b[38;5;124m\"\u001b[39m) \u001b[38;5;28;01mas\u001b[39;00m image_file:\n\u001b[1;32m----> 2\u001b[0m     image_base64 \u001b[38;5;241m=\u001b[39m \u001b[43mbase64\u001b[49m\u001b[38;5;241m.\u001b[39mb64encode(image_file\u001b[38;5;241m.\u001b[39mread())\u001b[38;5;241m.\u001b[39mdecode(\u001b[38;5;124m\"\u001b[39m\u001b[38;5;124mutf-8\u001b[39m\u001b[38;5;124m\"\u001b[39m)\n",
      "\u001b[1;31mNameError\u001b[0m: name 'base64' is not defined"
     ]
    }
   ],
   "source": [
    "with open(\"test3.png\", \"rb\") as image_file:\n",
    "    image_base64 = base64.b64encode(image_file.read()).decode(\"utf-8\")\n"
   ]
  },
  {
   "cell_type": "code",
   "execution_count": 234,
   "id": "607e3d8a-74c7-4cbc-af32-2884c8096ff4",
   "metadata": {
    "scrolled": true
   },
   "outputs": [],
   "source": [
    "import requests\n",
    "import base64\n",
    "\n",
    "# 定义主机地址和端口\n",
    "host = \"192.168.3.111\"\n",
    "port = \"11434\"\n",
    "url = f\"http://{host}:{port}\"\n",
    "model = \"llava:7b\"\n",
    "\n",
    "prompt = \"\"\"请根据图片内容完成以下JSON数组，并仅返回该数组，禁止任何解释或额外描述。请严格按照以下要求填写： \n",
    "{\n",
    "  \"text_color\": 从 \"Blue\", \"Green\", \"Yellow\", \"Red\", \"Wood\" 中选择一个最接近的颜色作为值，\n",
    "  \"has_circle\": 布尔值 true 或 false，表示背景颜色和字母颜色是否一致，\n",
    "  \"text_content\": 仅包含图片中的一个字母，不可为空或包含其他内容。\n",
    "}\n",
    "请确保回答格式与示例完全一致。\n",
    "\"\"\""
   ]
  },
  {
   "cell_type": "code",
   "execution_count": 239,
   "id": "1afb3f60-4147-4fad-9972-ff13ed69e330",
   "metadata": {},
   "outputs": [
    {
     "data": {
      "text/plain": [
       "ChatResponse(model='llava:7b', created_at='2024-11-29T18:27:06.671301024Z', done=True, done_reason='stop', total_duration=2284509178, load_duration=3455427, prompt_eval_count=1, prompt_eval_duration=1254644000, eval_count=40, eval_duration=968752000, message=Message(role='assistant', content=' ```json\\n{\\n  \"text_color\": \"Blue\",\\n  \"has_circle\": false,\\n  \"text_content\": \"R\"\\n}\\n``` ', images=None, tool_calls=None))"
      ]
     },
     "execution_count": 239,
     "metadata": {},
     "output_type": "execute_result"
    }
   ],
   "source": [
    "from ollama import Client\n",
    "client = Client(\n",
    "  host=url,\n",
    "  headers={'x-some-header': 'some-value'}\n",
    ")\n",
    "response = client.chat(model=model, messages=[\n",
    "  {\n",
    "    'role': 'user',\n",
    "    'content': prompt,\n",
    "    'images': [image_base64]\n",
    "  },\n",
    "])\n",
    "response"
   ]
  },
  {
   "cell_type": "code",
   "execution_count": 240,
   "id": "a0789846-8d2a-42cc-99bb-b7e9a1569719",
   "metadata": {},
   "outputs": [
    {
     "data": {
      "text/plain": [
       "' ```json\\n{\\n  \"text_color\": \"Blue\",\\n  \"has_circle\": false,\\n  \"text_content\": \"R\"\\n}\\n``` '"
      ]
     },
     "execution_count": 240,
     "metadata": {},
     "output_type": "execute_result"
    }
   ],
   "source": [
    "message_content = response[\"message\"][\"content\"]\n",
    "message_content"
   ]
  },
  {
   "cell_type": "code",
   "execution_count": 241,
   "id": "48214f83-3ee0-4cac-bc21-f4e87db2f75c",
   "metadata": {},
   "outputs": [
    {
     "data": {
      "text/plain": [
       "'{\\n  \"text_color\": \"Blue\",\\n  \"has_circle\": false,\\n  \"text_content\": \"R\"\\n}'"
      ]
     },
     "execution_count": 241,
     "metadata": {},
     "output_type": "execute_result"
    }
   ],
   "source": [
    "import re\n",
    "\n",
    "# 使用正则表达式提取 JSON 数据块\n",
    "cleaned_json_match = re.search(r\"```json\\s*(\\{.*?\\})\\s*```\", message_content, re.DOTALL)\n",
    "cleaned_json_match.group(1)\n"
   ]
  },
  {
   "cell_type": "code",
   "execution_count": 232,
   "id": "3ba33b48-f7e7-40f2-8fc4-afd024440151",
   "metadata": {},
   "outputs": [
    {
     "data": {
      "text/plain": [
       "{'text_color': 'Red', 'has_circle': True, 'text_content': 'T'}"
      ]
     },
     "execution_count": 232,
     "metadata": {},
     "output_type": "execute_result"
    }
   ],
   "source": [
    "parsed_json = json.loads(cleaned_json_match.group(1))\n",
    "parsed_json"
   ]
  },
  {
   "cell_type": "code",
   "execution_count": 223,
   "id": "85cc52db-5467-46e4-abff-5afc7d14ae0e",
   "metadata": {},
   "outputs": [
    {
     "ename": "SyntaxError",
     "evalue": "incomplete input (162203901.py, line 2)",
     "output_type": "error",
     "traceback": [
      "\u001b[1;36m  Cell \u001b[1;32mIn[223], line 2\u001b[1;36m\u001b[0m\n\u001b[1;33m    \u001b[0m\n\u001b[1;37m    ^\u001b[0m\n\u001b[1;31mSyntaxError\u001b[0m\u001b[1;31m:\u001b[0m incomplete input\n"
     ]
    }
   ],
   "source": [
    "def getCubeInformationFromLLAVA(img_path, host=\"192.168.3.111\", ):\n",
    "    "
   ]
  },
  {
   "cell_type": "code",
   "execution_count": null,
   "id": "ef5b1398-11e5-4e4b-bafc-0e9fbb61bb83",
   "metadata": {},
   "outputs": [],
   "source": []
  }
 ],
 "metadata": {
  "kernelspec": {
   "display_name": "Python (irobman_lab1)",
   "language": "python",
   "name": "irobman_lab1"
  },
  "language_info": {
   "codemirror_mode": {
    "name": "ipython",
    "version": 3
   },
   "file_extension": ".py",
   "mimetype": "text/x-python",
   "name": "python",
   "nbconvert_exporter": "python",
   "pygments_lexer": "ipython3",
   "version": "3.10.15"
  }
 },
 "nbformat": 4,
 "nbformat_minor": 5
}
