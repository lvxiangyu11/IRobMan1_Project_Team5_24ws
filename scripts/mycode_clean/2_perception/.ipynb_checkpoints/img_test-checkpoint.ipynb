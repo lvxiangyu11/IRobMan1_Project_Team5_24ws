{
 "cells": [
  {
   "cell_type": "code",
   "execution_count": 3,
   "id": "72951e3b-a231-45f2-8c1a-401ec09b2d46",
   "metadata": {
    "tags": []
   },
   "outputs": [
    {
     "name": "stdout",
     "output_type": "stream",
     "text": [
      "未识别到任何文本\n"
     ]
    }
   ],
   "source": [
    "import cv2\n",
    "import pytesseract\n",
    "import numpy as np\n",
    "\n",
    "# 如果在 Windows 上，确保设置 Tesseract 的路径\n",
    "# pytesseract.pytesseract.tesseract_cmd = r\"C:\\Program Files\\Tesseract-OCR\\tesseract.exe\"\n",
    "\n",
    "# 读取图像\n",
    "image = cv2.imread('test.png')\n",
    "\n",
    "# 图像预处理：将图像转换为灰度图\n",
    "gray_image = cv2.cvtColor(image, cv2.COLOR_BGR2GRAY)\n",
    "\n",
    "# 1. 去噪（去除图像中的噪点）\n",
    "gray_image = cv2.fastNlMeansDenoising(gray_image, None, 30, 7, 21)\n",
    "\n",
    "# 2. 二值化（提高对比度，便于字符识别）\n",
    "_, binary_image = cv2.threshold(gray_image, 0, 255, cv2.THRESH_BINARY + cv2.THRESH_OTSU)\n",
    "\n",
    "# 3. 使用形态学操作来去除噪点（如果有的话）\n",
    "kernel = np.ones((3,3), np.uint8)\n",
    "morph_image = cv2.morphologyEx(binary_image, cv2.MORPH_CLOSE, kernel)\n",
    "\n",
    "# 尝试旋转图像的不同角度来应对可能的旋转\n",
    "def rotate_image(image, angle):\n",
    "    (h, w) = image.shape[:2]\n",
    "    center = (w // 2, h // 2)\n",
    "    matrix = cv2.getRotationMatrix2D(center, angle, 1.0)\n",
    "    rotated_image = cv2.warpAffine(image, matrix, (w, h))\n",
    "    return rotated_image\n",
    "\n",
    "angles = [0, 90, 180, 270]\n",
    "recognized_text = None\n",
    "\n",
    "for angle in angles:\n",
    "    rotated_image = rotate_image(morph_image, angle)\n",
    "    \n",
    "    # 使用 pytesseract 进行 OCR 识别\n",
    "    text = pytesseract.image_to_string(rotated_image)\n",
    "    \n",
    "    if text.strip():  # 如果识别到文本\n",
    "        recognized_text = text\n",
    "        break\n",
    "\n",
    "# 输出识别到的文本\n",
    "if recognized_text:\n",
    "    print(f\"识别到的文本：{recognized_text}\")\n",
    "else:\n",
    "    print(\"未识别到任何文本\")\n"
   ]
  },
  {
   "cell_type": "code",
   "execution_count": 6,
   "id": "9e5d243f-d578-4954-a52a-45338b53cfb4",
   "metadata": {
    "tags": []
   },
   "outputs": [
    {
     "data": {
      "text/plain": [
       "'|\\n\\x0c'"
      ]
     },
     "execution_count": 6,
     "metadata": {},
     "output_type": "execute_result"
    }
   ],
   "source": [
    "text = pytesseract.image_to_string(rotated_image, config='--psm 6')\n",
    "text"
   ]
  },
  {
   "cell_type": "code",
   "execution_count": null,
   "id": "5aa46f13-7559-4056-a360-dfc0562b030d",
   "metadata": {},
   "outputs": [],
   "source": [
    "import easyocr\n",
    "\n",
    "# Initialize the reader\n",
    "reader = easyocr.Reader(['en'], gpu=False)\n",
    "\n",
    "# Recognize text in the image\n",
    "result = reader.readtext('test.png', detail=0)\n",
    "\n",
    "print(\"Recognized Text:\", result)\n"
   ]
  }
 ],
 "metadata": {
  "kernelspec": {
   "display_name": "Python 3 (ipykernel)",
   "language": "python",
   "name": "python3"
  },
  "language_info": {
   "codemirror_mode": {
    "name": "ipython",
    "version": 3
   },
   "file_extension": ".py",
   "mimetype": "text/x-python",
   "name": "python",
   "nbconvert_exporter": "python",
   "pygments_lexer": "ipython3",
   "version": "3.8.10"
  }
 },
 "nbformat": 4,
 "nbformat_minor": 5
}
